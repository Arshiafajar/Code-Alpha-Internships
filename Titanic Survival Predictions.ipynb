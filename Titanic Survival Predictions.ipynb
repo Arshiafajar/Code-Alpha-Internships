{
 "cells": [
  {
   "cell_type": "markdown",
   "id": "6aec42d8-ab62-4de1-81fe-efdd09fcb93c",
   "metadata": {},
   "source": [
    "# Task 1\n",
    "# Prediction of survival of a passenger based on gender,status and age etc"
   ]
  },
  {
   "cell_type": "markdown",
   "id": "271bf026-2e54-42f2-a984-8797822759e8",
   "metadata": {},
   "source": [
    " "
   ]
  },
  {
   "cell_type": "markdown",
   "id": "cb082bb6-1b94-4e98-95d1-281dc549ee10",
   "metadata": {},
   "source": [
    "# Loading Libraries"
   ]
  },
  {
   "cell_type": "code",
   "execution_count": 1,
   "id": "414f5301-5594-4603-beb8-df57bb58d824",
   "metadata": {},
   "outputs": [],
   "source": [
    "import numpy as np\n",
    "import matplotlib.pyplot as plt\n",
    "import pandas as pd\n",
    "import seaborn as sns\n",
    "import warnings\n",
    "from sklearn import linear_model\n",
    "from sklearn.linear_model import LogisticRegression\n",
    "from sklearn.neighbors import KNeighborsClassifier\n",
    "from sklearn.svm import SVC, LinearSVC\n",
    "from sklearn.naive_bayes import GaussianNB\n",
    "from sklearn.model_selection import train_test_split\n",
    "from sklearn.metrics import accuracy_score,confusion_matrix,classification_report\n",
    "!pip install missingno # i already installed these , but just to show command to install if not \n",
    "!pip install category_encoders\n"
   ]
  },
  {
   "cell_type": "markdown",
   "id": "ca255311-9d18-4478-af4a-ea08715f86de",
   "metadata": {},
   "source": [
    "# Loading the dataset"
   ]
  },
  {
   "cell_type": "code",
   "execution_count": 492,
   "id": "5244416b-4afa-463d-a51d-016b335d8f05",
   "metadata": {},
   "outputs": [
    {
     "name": "stdout",
     "output_type": "stream",
     "text": [
      "     PassengerId  Survived  Pclass  \\\n",
      "0              1         0       3   \n",
      "1              2         1       1   \n",
      "2              3         1       3   \n",
      "3              4         1       1   \n",
      "4              5         0       3   \n",
      "..           ...       ...     ...   \n",
      "886          887         0       2   \n",
      "887          888         1       1   \n",
      "888          889         0       3   \n",
      "889          890         1       1   \n",
      "890          891         0       3   \n",
      "\n",
      "                                                    Name     Sex   Age  SibSp  \\\n",
      "0                                Braund, Mr. Owen Harris    male  22.0      1   \n",
      "1    Cumings, Mrs. John Bradley (Florence Briggs Thayer)  female  38.0      1   \n",
      "2                                 Heikkinen, Miss. Laina  female  26.0      0   \n",
      "3           Futrelle, Mrs. Jacques Heath (Lily May Peel)  female  35.0      1   \n",
      "4                               Allen, Mr. William Henry    male  35.0      0   \n",
      "..                                                   ...     ...   ...    ...   \n",
      "886                                Montvila, Rev. Juozas    male  27.0      0   \n",
      "887                         Graham, Miss. Margaret Edith  female  19.0      0   \n",
      "888             Johnston, Miss. Catherine Helen \"Carrie\"  female   NaN      1   \n",
      "889                                Behr, Mr. Karl Howell    male  26.0      0   \n",
      "890                                  Dooley, Mr. Patrick    male  32.0      0   \n",
      "\n",
      "     Parch            Ticket     Fare Cabin Embarked  \n",
      "0        0         A/5 21171   7.2500   NaN        S  \n",
      "1        0          PC 17599  71.2833   C85        C  \n",
      "2        0  STON/O2. 3101282   7.9250   NaN        S  \n",
      "3        0            113803  53.1000  C123        S  \n",
      "4        0            373450   8.0500   NaN        S  \n",
      "..     ...               ...      ...   ...      ...  \n",
      "886      0            211536  13.0000   NaN        S  \n",
      "887      0            112053  30.0000   B42        S  \n",
      "888      2        W./C. 6607  23.4500   NaN        S  \n",
      "889      0            111369  30.0000  C148        C  \n",
      "890      0            370376   7.7500   NaN        Q  \n",
      "\n",
      "[891 rows x 12 columns]\n"
     ]
    }
   ],
   "source": [
    "train=pd.read_csv(\"train.csv\")\n",
    "print(train)\n",
    "\n"
   ]
  },
  {
   "cell_type": "markdown",
   "id": "d8fb1299-7afc-4616-90e0-adea1083b351",
   "metadata": {},
   "source": [
    "# Analysis on train dataset"
   ]
  },
  {
   "cell_type": "markdown",
   "id": "febaf1f0-aea1-43aa-935f-25228d1c709e",
   "metadata": {},
   "source": [
    "- checking the null count in each column of train dataset"
   ]
  },
  {
   "cell_type": "code",
   "execution_count": 434,
   "id": "966cde3c-eda0-4a89-a101-9bedbc5a5c11",
   "metadata": {},
   "outputs": [
    {
     "name": "stdout",
     "output_type": "stream",
     "text": [
      "<class 'pandas.core.frame.DataFrame'>\n",
      "RangeIndex: 891 entries, 0 to 890\n",
      "Data columns (total 12 columns):\n",
      " #   Column       Non-Null Count  Dtype  \n",
      "---  ------       --------------  -----  \n",
      " 0   PassengerId  891 non-null    int64  \n",
      " 1   Survived     891 non-null    int64  \n",
      " 2   Pclass       891 non-null    int64  \n",
      " 3   Name         891 non-null    object \n",
      " 4   Sex          891 non-null    object \n",
      " 5   Age          714 non-null    float64\n",
      " 6   SibSp        891 non-null    int64  \n",
      " 7   Parch        891 non-null    int64  \n",
      " 8   Ticket       891 non-null    object \n",
      " 9   Fare         891 non-null    float64\n",
      " 10  Cabin        204 non-null    object \n",
      " 11  Embarked     889 non-null    object \n",
      "dtypes: float64(2), int64(5), object(5)\n",
      "memory usage: 83.7+ KB\n"
     ]
    }
   ],
   "source": [
    "train.info()"
   ]
  },
  {
   "cell_type": "markdown",
   "id": "12bd28da-0520-4956-b047-72151fa3009d",
   "metadata": {},
   "source": [
    "we have:\n",
    "- total 10 features\n",
    "- where survived is the targeted feature"
   ]
  },
  {
   "cell_type": "markdown",
   "id": "4c124d19-53d2-4c22-808c-4a4ec0d28f28",
   "metadata": {},
   "source": [
    "- statiscal analysis of whole dataset "
   ]
  },
  {
   "cell_type": "code",
   "execution_count": 438,
   "id": "19dee140-a42c-417e-9a0a-b1cd4a2079de",
   "metadata": {},
   "outputs": [
    {
     "data": {
      "text/html": [
       "<div>\n",
       "<style scoped>\n",
       "    .dataframe tbody tr th:only-of-type {\n",
       "        vertical-align: middle;\n",
       "    }\n",
       "\n",
       "    .dataframe tbody tr th {\n",
       "        vertical-align: top;\n",
       "    }\n",
       "\n",
       "    .dataframe thead th {\n",
       "        text-align: right;\n",
       "    }\n",
       "</style>\n",
       "<table border=\"1\" class=\"dataframe\">\n",
       "  <thead>\n",
       "    <tr style=\"text-align: right;\">\n",
       "      <th></th>\n",
       "      <th>PassengerId</th>\n",
       "      <th>Survived</th>\n",
       "      <th>Pclass</th>\n",
       "      <th>Name</th>\n",
       "      <th>Sex</th>\n",
       "      <th>Age</th>\n",
       "      <th>SibSp</th>\n",
       "      <th>Parch</th>\n",
       "      <th>Ticket</th>\n",
       "      <th>Fare</th>\n",
       "      <th>Cabin</th>\n",
       "      <th>Embarked</th>\n",
       "    </tr>\n",
       "  </thead>\n",
       "  <tbody>\n",
       "    <tr>\n",
       "      <th>count</th>\n",
       "      <td>891.000000</td>\n",
       "      <td>891.000000</td>\n",
       "      <td>891.000000</td>\n",
       "      <td>891</td>\n",
       "      <td>891</td>\n",
       "      <td>714.000000</td>\n",
       "      <td>891.000000</td>\n",
       "      <td>891.000000</td>\n",
       "      <td>891</td>\n",
       "      <td>891.000000</td>\n",
       "      <td>204</td>\n",
       "      <td>889</td>\n",
       "    </tr>\n",
       "    <tr>\n",
       "      <th>unique</th>\n",
       "      <td>NaN</td>\n",
       "      <td>NaN</td>\n",
       "      <td>NaN</td>\n",
       "      <td>891</td>\n",
       "      <td>2</td>\n",
       "      <td>NaN</td>\n",
       "      <td>NaN</td>\n",
       "      <td>NaN</td>\n",
       "      <td>681</td>\n",
       "      <td>NaN</td>\n",
       "      <td>147</td>\n",
       "      <td>3</td>\n",
       "    </tr>\n",
       "    <tr>\n",
       "      <th>top</th>\n",
       "      <td>NaN</td>\n",
       "      <td>NaN</td>\n",
       "      <td>NaN</td>\n",
       "      <td>Braund, Mr. Owen Harris</td>\n",
       "      <td>male</td>\n",
       "      <td>NaN</td>\n",
       "      <td>NaN</td>\n",
       "      <td>NaN</td>\n",
       "      <td>347082</td>\n",
       "      <td>NaN</td>\n",
       "      <td>B96 B98</td>\n",
       "      <td>S</td>\n",
       "    </tr>\n",
       "    <tr>\n",
       "      <th>freq</th>\n",
       "      <td>NaN</td>\n",
       "      <td>NaN</td>\n",
       "      <td>NaN</td>\n",
       "      <td>1</td>\n",
       "      <td>577</td>\n",
       "      <td>NaN</td>\n",
       "      <td>NaN</td>\n",
       "      <td>NaN</td>\n",
       "      <td>7</td>\n",
       "      <td>NaN</td>\n",
       "      <td>4</td>\n",
       "      <td>644</td>\n",
       "    </tr>\n",
       "    <tr>\n",
       "      <th>mean</th>\n",
       "      <td>446.000000</td>\n",
       "      <td>0.383838</td>\n",
       "      <td>2.308642</td>\n",
       "      <td>NaN</td>\n",
       "      <td>NaN</td>\n",
       "      <td>29.699118</td>\n",
       "      <td>0.523008</td>\n",
       "      <td>0.381594</td>\n",
       "      <td>NaN</td>\n",
       "      <td>32.204208</td>\n",
       "      <td>NaN</td>\n",
       "      <td>NaN</td>\n",
       "    </tr>\n",
       "    <tr>\n",
       "      <th>std</th>\n",
       "      <td>257.353842</td>\n",
       "      <td>0.486592</td>\n",
       "      <td>0.836071</td>\n",
       "      <td>NaN</td>\n",
       "      <td>NaN</td>\n",
       "      <td>14.526497</td>\n",
       "      <td>1.102743</td>\n",
       "      <td>0.806057</td>\n",
       "      <td>NaN</td>\n",
       "      <td>49.693429</td>\n",
       "      <td>NaN</td>\n",
       "      <td>NaN</td>\n",
       "    </tr>\n",
       "    <tr>\n",
       "      <th>min</th>\n",
       "      <td>1.000000</td>\n",
       "      <td>0.000000</td>\n",
       "      <td>1.000000</td>\n",
       "      <td>NaN</td>\n",
       "      <td>NaN</td>\n",
       "      <td>0.420000</td>\n",
       "      <td>0.000000</td>\n",
       "      <td>0.000000</td>\n",
       "      <td>NaN</td>\n",
       "      <td>0.000000</td>\n",
       "      <td>NaN</td>\n",
       "      <td>NaN</td>\n",
       "    </tr>\n",
       "    <tr>\n",
       "      <th>25%</th>\n",
       "      <td>223.500000</td>\n",
       "      <td>0.000000</td>\n",
       "      <td>2.000000</td>\n",
       "      <td>NaN</td>\n",
       "      <td>NaN</td>\n",
       "      <td>20.125000</td>\n",
       "      <td>0.000000</td>\n",
       "      <td>0.000000</td>\n",
       "      <td>NaN</td>\n",
       "      <td>7.910400</td>\n",
       "      <td>NaN</td>\n",
       "      <td>NaN</td>\n",
       "    </tr>\n",
       "    <tr>\n",
       "      <th>50%</th>\n",
       "      <td>446.000000</td>\n",
       "      <td>0.000000</td>\n",
       "      <td>3.000000</td>\n",
       "      <td>NaN</td>\n",
       "      <td>NaN</td>\n",
       "      <td>28.000000</td>\n",
       "      <td>0.000000</td>\n",
       "      <td>0.000000</td>\n",
       "      <td>NaN</td>\n",
       "      <td>14.454200</td>\n",
       "      <td>NaN</td>\n",
       "      <td>NaN</td>\n",
       "    </tr>\n",
       "    <tr>\n",
       "      <th>75%</th>\n",
       "      <td>668.500000</td>\n",
       "      <td>1.000000</td>\n",
       "      <td>3.000000</td>\n",
       "      <td>NaN</td>\n",
       "      <td>NaN</td>\n",
       "      <td>38.000000</td>\n",
       "      <td>1.000000</td>\n",
       "      <td>0.000000</td>\n",
       "      <td>NaN</td>\n",
       "      <td>31.000000</td>\n",
       "      <td>NaN</td>\n",
       "      <td>NaN</td>\n",
       "    </tr>\n",
       "    <tr>\n",
       "      <th>max</th>\n",
       "      <td>891.000000</td>\n",
       "      <td>1.000000</td>\n",
       "      <td>3.000000</td>\n",
       "      <td>NaN</td>\n",
       "      <td>NaN</td>\n",
       "      <td>80.000000</td>\n",
       "      <td>8.000000</td>\n",
       "      <td>6.000000</td>\n",
       "      <td>NaN</td>\n",
       "      <td>512.329200</td>\n",
       "      <td>NaN</td>\n",
       "      <td>NaN</td>\n",
       "    </tr>\n",
       "  </tbody>\n",
       "</table>\n",
       "</div>"
      ],
      "text/plain": [
       "        PassengerId    Survived      Pclass                     Name   Sex  \\\n",
       "count    891.000000  891.000000  891.000000                      891   891   \n",
       "unique          NaN         NaN         NaN                      891     2   \n",
       "top             NaN         NaN         NaN  Braund, Mr. Owen Harris  male   \n",
       "freq            NaN         NaN         NaN                        1   577   \n",
       "mean     446.000000    0.383838    2.308642                      NaN   NaN   \n",
       "std      257.353842    0.486592    0.836071                      NaN   NaN   \n",
       "min        1.000000    0.000000    1.000000                      NaN   NaN   \n",
       "25%      223.500000    0.000000    2.000000                      NaN   NaN   \n",
       "50%      446.000000    0.000000    3.000000                      NaN   NaN   \n",
       "75%      668.500000    1.000000    3.000000                      NaN   NaN   \n",
       "max      891.000000    1.000000    3.000000                      NaN   NaN   \n",
       "\n",
       "               Age       SibSp       Parch  Ticket        Fare    Cabin  \\\n",
       "count   714.000000  891.000000  891.000000     891  891.000000      204   \n",
       "unique         NaN         NaN         NaN     681         NaN      147   \n",
       "top            NaN         NaN         NaN  347082         NaN  B96 B98   \n",
       "freq           NaN         NaN         NaN       7         NaN        4   \n",
       "mean     29.699118    0.523008    0.381594     NaN   32.204208      NaN   \n",
       "std      14.526497    1.102743    0.806057     NaN   49.693429      NaN   \n",
       "min       0.420000    0.000000    0.000000     NaN    0.000000      NaN   \n",
       "25%      20.125000    0.000000    0.000000     NaN    7.910400      NaN   \n",
       "50%      28.000000    0.000000    0.000000     NaN   14.454200      NaN   \n",
       "75%      38.000000    1.000000    0.000000     NaN   31.000000      NaN   \n",
       "max      80.000000    8.000000    6.000000     NaN  512.329200      NaN   \n",
       "\n",
       "       Embarked  \n",
       "count       889  \n",
       "unique        3  \n",
       "top           S  \n",
       "freq        644  \n",
       "mean        NaN  \n",
       "std         NaN  \n",
       "min         NaN  \n",
       "25%         NaN  \n",
       "50%         NaN  \n",
       "75%         NaN  \n",
       "max         NaN  "
      ]
     },
     "execution_count": 438,
     "metadata": {},
     "output_type": "execute_result"
    }
   ],
   "source": [
    "train.describe(include=\"all\")"
   ]
  },
  {
   "cell_type": "markdown",
   "id": "412c2145-f195-4dc6-b836-4db4f1ccb387",
   "metadata": {},
   "source": [
    "- getting percentage of missing values in each columnof dataset "
   ]
  },
  {
   "cell_type": "code",
   "execution_count": 441,
   "id": "75b3cabb-b600-4d76-9ae2-272c7345bbb7",
   "metadata": {},
   "outputs": [
    {
     "name": "stdout",
     "output_type": "stream",
     "text": [
      "PassengerId     0.000000\n",
      "Survived        0.000000\n",
      "Pclass          0.000000\n",
      "Name            0.000000\n",
      "Sex             0.000000\n",
      "Age            19.865320\n",
      "SibSp           0.000000\n",
      "Parch           0.000000\n",
      "Ticket          0.000000\n",
      "Fare            0.000000\n",
      "Cabin          77.104377\n",
      "Embarked        0.224467\n",
      "dtype: float64\n"
     ]
    }
   ],
   "source": [
    "missing_percentages = train.isnull().sum() * 100 / len(train)\n",
    "print(missing_percentages)"
   ]
  },
  {
   "cell_type": "markdown",
   "id": "5b3ea654-91ac-4aba-9fcb-3538a41c987c",
   "metadata": {},
   "source": [
    "# Analysis On columns Used for predicting the survival rate "
   ]
  },
  {
   "cell_type": "markdown",
   "id": "7cd25b0a-3515-4dfa-9337-fd3d7a2bdac5",
   "metadata": {},
   "source": [
    "_ These are all the column in our dataset. The one which can contribute are:\n",
    "- Age\n",
    "- Cabin\n",
    "- Pclass\n",
    "- Embark"
   ]
  },
  {
   "cell_type": "markdown",
   "id": "d34691de-cdc7-4b04-b3c0-e226a026aae0",
   "metadata": {},
   "source": [
    "# 1- Age"
   ]
  },
  {
   "cell_type": "code",
   "execution_count": 446,
   "id": "74f5457a-a88c-4a49-b88d-b94eec7db0a0",
   "metadata": {},
   "outputs": [
    {
     "name": "stdout",
     "output_type": "stream",
     "text": [
      "177\n",
      "AgeGroup\n",
      "Child          0.579710\n",
      "Teen           0.428571\n",
      "Young Adult    0.353271\n",
      "Adult          0.400000\n",
      "Senior         0.227273\n",
      "Name: Survived, dtype: float64\n"
     ]
    },
    {
     "name": "stderr",
     "output_type": "stream",
     "text": [
      "C:\\Users\\PMLS\\AppData\\Local\\Temp\\ipykernel_23132\\3128867792.py:2: FutureWarning: A value is trying to be set on a copy of a DataFrame or Series through chained assignment using an inplace method.\n",
      "The behavior will change in pandas 3.0. This inplace method will never work because the intermediate object on which we are setting values always behaves as a copy.\n",
      "\n",
      "For example, when doing 'df[col].method(value, inplace=True)', try using 'df.method({col: value}, inplace=True)' or df[col] = df[col].method(value) instead, to perform the operation inplace on the original object.\n",
      "\n",
      "\n",
      "  train['Age'].fillna(train['Age'].median(), inplace=True)  #filling  missing values in 'Age' with the median age\n",
      "C:\\Users\\PMLS\\AppData\\Local\\Temp\\ipykernel_23132\\3128867792.py:5: FutureWarning: The default of observed=False is deprecated and will be changed to True in a future version of pandas. Pass observed=False to retain current behavior or observed=True to adopt the future default and silence this warning.\n",
      "  survival_rate_by_age_group = train.groupby('AgeGroup')['Survived'].mean() # calculating the survival rate for each age group\n"
     ]
    }
   ],
   "source": [
    "\n",
    "print(train['Age'].isnull().sum())  # checking the number of missing values in the 'Age' column\n",
    "train['Age'].fillna(train['Age'].median(), inplace=True)  #filling  missing values in 'Age' with the median age\n",
    "\n",
    "train['AgeGroup'] = pd.cut(train['Age'], bins=[0, 12, 18, 35, 60, np.inf], labels=['Child', 'Teen', 'Young Adult', 'Adult', 'Senior']) #calculating the survival rate by age group\n",
    "survival_rate_by_age_group = train.groupby('AgeGroup')['Survived'].mean() # calculating the survival rate for each age group\n",
    "\n",
    "print(survival_rate_by_age_group)\n"
   ]
  },
  {
   "cell_type": "markdown",
   "id": "3156dc98-e73a-4e30-bd09-fed768468dfb",
   "metadata": {},
   "source": [
    "There are 177 missing values in the Age column.\n",
    "The survival rates for each age group are as follows:\n",
    "- Child (0-12 years): 57.97%\n",
    "- Teen (13-18 years): 42.86%\n",
    "- Young Adult (19-35 years): 35.33%\n",
    "- Adult (36-60 years): 40.00%\n",
    "- Senior (61+ years): 22.73%\n",
    "This analysis shows that children had the highest survival rate, followed by adults, teens, young adults, and seniors. This indicates that age is an important factor in predicting survival, with younger passengers, particularly children, having a higher chance of survival."
   ]
  },
  {
   "cell_type": "code",
   "execution_count": 449,
   "id": "f70b7e19-a733-4abc-b58b-9f52f9396d29",
   "metadata": {},
   "outputs": [
    {
     "data": {
      "image/png": "[encoded data removed]",
      "text/plain": [
       "<Figure size 800x600 with 1 Axes>"
      ]
     },
     "metadata": {},
     "output_type": "display_data"
    }
   ],
   "source": [
    "plt.figure(figsize=(8, 6))\n",
    "survival_rate_by_age_group.plot(kind='bar', color='black', edgecolor='white')\n",
    "plt.title('Survival Rate by Age Group')\n",
    "plt.xlabel('Age Group')\n",
    "plt.ylabel('Survival Rate')\n",
    "plt.xticks(rotation=0)\n",
    "plt.show()"
   ]
  },
  {
   "cell_type": "markdown",
   "id": "a08447f9-b87e-45a2-a142-5f96d334bcc8",
   "metadata": {},
   "source": [
    "# 2-Cabin"
   ]
  },
  {
   "cell_type": "code",
   "execution_count": 452,
   "id": "d2666812-033b-46a7-bd76-0213f1f0786a",
   "metadata": {},
   "outputs": [
    {
     "name": "stdout",
     "output_type": "stream",
     "text": [
      "Total Number of missingvalues are:  687\n",
      "Survival rate with cabin known: 0.6666666666666666\n",
      "Survival rate without cabin known: 0.29985443959243085\n"
     ]
    }
   ],
   "source": [
    "\n",
    "print(\"Total Number of missingvalues are: \",train['Cabin'].isnull().sum()) # checking the number of missing values in the 'Cabin' column\n",
    "\n",
    "train['CabinKnown'] = train['Cabin'].notnull().astype(int) #creating a new feature indicating whether a cabin number is known\n",
    "\n",
    "survival_rate_with_cabin = train[train['CabinKnown'] == 1]['Survived'].mean() # checking the survival rate based on whether the cabin is known\n",
    "survival_rate_without_cabin = train[train['CabinKnown'] == 0]['Survived'].mean()\n",
    "\n",
    "print(f'Survival rate with cabin known: {survival_rate_with_cabin}')\n",
    "print(f'Survival rate without cabin known: {survival_rate_without_cabin}')\n"
   ]
  },
  {
   "cell_type": "code",
   "execution_count": 454,
   "id": "3ee57990-c0cf-4c07-af7e-683b8598029e",
   "metadata": {},
   "outputs": [
    {
     "name": "stderr",
     "output_type": "stream",
     "text": [
      "C:\\Users\\PMLS\\AppData\\Local\\Temp\\ipykernel_23132\\3320866962.py:7: FutureWarning: \n",
      "\n",
      "Passing `palette` without assigning `hue` is deprecated and will be removed in v0.14.0. Assign the `x` variable to `hue` and set `legend=False` for the same effect.\n",
      "\n",
      "  sns.barplot(x='CabinKnown', y='SurvivalRate', data=survival_rates, palette='viridis', edgecolor='black')\n"
     ]
    },
    {
     "data": {
      "image/png": "[encoded data removed]",
      "text/plain": [
       "<Figure size 600x600 with 1 Axes>"
      ]
     },
     "metadata": {},
     "output_type": "display_data"
    }
   ],
   "source": [
    "\n",
    "survival_rates = pd.DataFrame({\n",
    "    'CabinKnown': ['Known', 'Unknown'],\n",
    "    'SurvivalRate': [survival_rate_with_cabin, survival_rate_without_cabin]\n",
    "})\n",
    "\n",
    "plt.figure(figsize=(6, 6))\n",
    "sns.barplot(x='CabinKnown', y='SurvivalRate', data=survival_rates, palette='viridis', edgecolor='black')\n",
    "plt.title('Survival Rate by Cabin Known/Unknown')\n",
    "plt.xlabel('Cabin Known')\n",
    "plt.ylabel('Survival Rate')\n",
    "plt.ylim(0, 1)\n",
    "plt.show()"
   ]
  },
  {
   "cell_type": "markdown",
   "id": "7027584d-a437-4664-a2b8-d3a535e2d3bd",
   "metadata": {},
   "source": [
    "# 3-Embark"
   ]
  },
  {
   "cell_type": "code",
   "execution_count": 457,
   "id": "086f47ed-03ba-47ea-93df-dd4b45acf200",
   "metadata": {},
   "outputs": [
    {
     "name": "stdout",
     "output_type": "stream",
     "text": [
      "['S' 'C' 'Q' nan]\n",
      "2\n",
      "Embarked\n",
      "C    0.553571\n",
      "Q    0.389610\n",
      "S    0.339009\n",
      "Name: Survived, dtype: float64\n"
     ]
    },
    {
     "name": "stderr",
     "output_type": "stream",
     "text": [
      "C:\\Users\\PMLS\\AppData\\Local\\Temp\\ipykernel_23132\\672511125.py:4: FutureWarning: A value is trying to be set on a copy of a DataFrame or Series through chained assignment using an inplace method.\n",
      "The behavior will change in pandas 3.0. This inplace method will never work because the intermediate object on which we are setting values always behaves as a copy.\n",
      "\n",
      "For example, when doing 'df[col].method(value, inplace=True)', try using 'df.method({col: value}, inplace=True)' or df[col] = df[col].method(value) instead, to perform the operation inplace on the original object.\n",
      "\n",
      "\n",
      "  train['Embarked'].fillna(train['Embarked'].mode()[0], inplace=True)  #fill ming issing values in 'Embarked' with the most common value\n",
      "C:\\Users\\PMLS\\AppData\\Local\\Temp\\ipykernel_23132\\672511125.py:17: FutureWarning: \n",
      "\n",
      "Passing `palette` without assigning `hue` is deprecated and will be removed in v0.14.0. Assign the `x` variable to `hue` and set `legend=False` for the same effect.\n",
      "\n",
      "  sns.barplot(x='Embarked', y='SurvivalRate', data=survival_rates_embarked, palette='viridis', edgecolor='black')\n"
     ]
    },
    {
     "data": {
      "image/png": "[encoded data removed]",
      "text/plain": [
       "<Figure size 600x600 with 1 Axes>"
      ]
     },
     "metadata": {},
     "output_type": "display_data"
    }
   ],
   "source": [
    "\n",
    "print(train['Embarked'].unique()) # checking the unique values in the 'Embarked' column\n",
    "print(train['Embarked'].isnull().sum()) # checking the number of missing values in the 'Embarked' column\n",
    "\n",
    "train['Embarked'].fillna(train['Embarked'].mode()[0], inplace=True)  #fill ming issing values in 'Embarked' with the most common value\n",
    "\n",
    "survival_rate_by_embarked = train.groupby('Embarked')['Survived'].mean()\n",
    "\n",
    "print(survival_rate_by_embarked)\n",
    "\n",
    "survival_rates_embarked = pd.DataFrame({\n",
    "    'Embarked': survival_rate_by_embarked.index,\n",
    "    'SurvivalRate': survival_rate_by_embarked.values\n",
    "})\n",
    "\n",
    "# visualization of the survival rate by embarkation port\n",
    "plt.figure(figsize=(6, 6))\n",
    "sns.barplot(x='Embarked', y='SurvivalRate', data=survival_rates_embarked, palette='viridis', edgecolor='black')\n",
    "plt.title('Survival Rate by Port of Embarkation')\n",
    "plt.xlabel('Port of Embarkation')\n",
    "plt.ylabel('Survival Rate')\n",
    "plt.ylim(0, 1)\n",
    "plt.show()\n"
   ]
  },
  {
   "cell_type": "markdown",
   "id": "05e6c066-30f7-41e7-982a-cc279c4b3f73",
   "metadata": {},
   "source": [
    "The unique values in the Embarked column are 'S', 'C', 'Q', and there are some missing values (nan).\n",
    "There are 2 missing values in the Embarked column.\n",
    "The survival rates for each port of embarkation are as follows:\n",
    "- Cherbourg (C): 55.36%\n",
    "- Queenstown (Q): 38.96%\n",
    "- Southampton (S): 33.90%\n",
    "This analysis shows that passengers who embarked at Cherbourg had the highest survival rate, followed by those who embarked at Queenstown and Southampton. "
   ]
  },
  {
   "cell_type": "markdown",
   "id": "cb6adb34-d95c-4e8f-a593-5f476eec04d0",
   "metadata": {},
   "source": [
    "# 4-Gender"
   ]
  },
  {
   "cell_type": "code",
   "execution_count": 461,
   "id": "da088562-961c-4ca8-af83-a2d2e9641de5",
   "metadata": {},
   "outputs": [
    {
     "name": "stdout",
     "output_type": "stream",
     "text": [
      "['male' 'female']\n",
      "0\n",
      "Sex\n",
      "female    0.742038\n",
      "male      0.188908\n",
      "Name: Survived, dtype: float64\n"
     ]
    },
    {
     "data": {
      "text/plain": [
       "Text(0.5, 1.0, 'Pclass and Gender Survival')"
      ]
     },
     "execution_count": 461,
     "metadata": {},
     "output_type": "execute_result"
    },
    {
     "data": {
      "image/png": "[encoded data removed]",
      "text/plain": [
       "<Figure size 1800x800 with 2 Axes>"
      ]
     },
     "metadata": {},
     "output_type": "display_data"
    }
   ],
   "source": [
    "\n",
    "unique_sex = train['Sex'].unique() # checking the unique values in the 'Sex' column\n",
    "print(unique_sex)\n",
    "missing_sex = train['Sex'].isnull().sum() # checking the number of missing values in the 'Sex' column\n",
    "print(missing_sex)\n",
    "\n",
    "\n",
    "survival_rate_by_sex = train.groupby('Sex')['Survived'].mean()\n",
    "print(survival_rate_by_sex)\n",
    "#Graph\n",
    "fig, ax = plt.subplots(1, 2, figsize=(18, 8))  # Create subplots\n",
    "sns.countplot(x='Sex', hue=\"Survived\", data=train, ax=ax[0],palette=\"Set2\")\n",
    "ax[0].set_title('Gender: Survived vs Dead')\n",
    "sns.countplot(x='Sex', hue='Pclass', data=train, ax=ax[1],palette=\"Set2\")\n",
    "ax[1].set_title('Pclass and Gender Survival')"
   ]
  },
  {
   "cell_type": "markdown",
   "id": "6ee6a41c-7185-41b8-94cc-9087d8832f66",
   "metadata": {},
   "source": [
    "# 5-Pclass"
   ]
  },
  {
   "cell_type": "code",
   "execution_count": 464,
   "id": "01d0d939-6b6f-4162-8baf-604e390b2fb5",
   "metadata": {},
   "outputs": [
    {
     "name": "stdout",
     "output_type": "stream",
     "text": [
      " Unique values in P class are:  [3 1 2]\n",
      "0\n",
      "Pclass\n",
      "1    0.629630\n",
      "2    0.472826\n",
      "3    0.242363\n",
      "Name: Survived, dtype: float64\n"
     ]
    },
    {
     "name": "stderr",
     "output_type": "stream",
     "text": [
      "C:\\Users\\PMLS\\AppData\\Local\\Temp\\ipykernel_23132\\545085601.py:16: FutureWarning: \n",
      "\n",
      "Passing `palette` without assigning `hue` is deprecated and will be removed in v0.14.0. Assign the `x` variable to `hue` and set `legend=False` for the same effect.\n",
      "\n",
      "  sns.barplot(x=survival_rate_by_pclass.index, y=survival_rate_by_pclass.values, palette='viridis')\n"
     ]
    },
    {
     "data": {
      "image/png": "[encoded data removed]",
      "text/plain": [
       "<Figure size 400x500 with 1 Axes>"
      ]
     },
     "metadata": {},
     "output_type": "display_data"
    }
   ],
   "source": [
    "\n",
    "unique_pclass = train['Pclass'].unique()# cchecking the unique values in the 'Pclass' column\n",
    "print(\" Unique values in P class are: \",unique_pclass)\n",
    "\n",
    "missing_pclass = train['Pclass'].isnull().sum() # checking the number of missing values in the 'Pclass' column\n",
    "print(missing_pclass)\n",
    "survival_rate_by_pclass =train.groupby('Pclass')['Survived'].mean() # calculating the survival rate based on passenger class\n",
    "\n",
    "print(survival_rate_by_pclass)\n",
    "\n",
    "\n",
    "# Plotting\n",
    "\n",
    "plt.figure(figsize=(4, 5))\n",
    "\n",
    "# Bar plot for survival rate by passenger class\n",
    "sns.barplot(x=survival_rate_by_pclass.index, y=survival_rate_by_pclass.values, palette='viridis')\n",
    "plt.title('Survival Rate by Passenger Class')\n",
    "plt.xlabel('Passenger Class')\n",
    "plt.ylabel('Survival Rate')\n",
    "\n",
    "plt.tight_layout()\n",
    "plt.show()\n"
   ]
  },
  {
   "cell_type": "markdown",
   "id": "c4c5fee4-740f-4b7e-80af-cdf5fa865184",
   "metadata": {},
   "source": [
    "there are 3 unique values in pclass that is 1,2,3\n",
    "- 0 missing values\n",
    "- the maximmum survival rate is in 1st class\n",
    "- then in the 2d class\n",
    "- then in the 3rd class"
   ]
  },
  {
   "cell_type": "markdown",
   "id": "809917a5-d3e1-4b5e-a81a-8c8abecfd763",
   "metadata": {},
   "source": [
    "# 5-Siblings"
   ]
  },
  {
   "cell_type": "code",
   "execution_count": 468,
   "id": "f06a4407-b830-401b-a6f2-514cff64260e",
   "metadata": {},
   "outputs": [
    {
     "name": "stderr",
     "output_type": "stream",
     "text": [
      "C:\\Users\\PMLS\\AppData\\Local\\Temp\\ipykernel_23132\\4263420231.py:5: FutureWarning: \n",
      "\n",
      "Passing `palette` without assigning `hue` is deprecated and will be removed in v0.14.0. Assign the `x` variable to `hue` and set `legend=False` for the same effect.\n",
      "\n",
      "  sns.barplot(x=\"SibSp\", y=\"Survived\", data=train, palette=custom_palette)\n"
     ]
    },
    {
     "data": {
      "image/png": "[encoded data removed]",
      "text/plain": [
       "<Figure size 800x600 with 1 Axes>"
      ]
     },
     "metadata": {},
     "output_type": "display_data"
    },
    {
     "name": "stdout",
     "output_type": "stream",
     "text": [
      "Percentage of SibSp = 0 who survived: 34.53947368421053\n",
      "Percentage of SibSp = 1 who survived: 53.588516746411486\n",
      "Percentage of SibSp = 2 who survived: 46.42857142857143\n",
      "Percentage of SibSp = 3 who survived: 25.0\n",
      "Percentage of SibSp = 4 who survived: 16.666666666666664\n",
      "Percentage of SibSp = 5 who survived: 0\n",
      "Percentage of SibSp = 8 who survived: 0\n"
     ]
    }
   ],
   "source": [
    "\n",
    "plt.figure(figsize=(8, 6))\n",
    "\n",
    "custom_palette = sns.color_palette(\"viridis\", n_colors=len(train[\"SibSp\"].unique()))\n",
    "\n",
    "sns.barplot(x=\"SibSp\", y=\"Survived\", data=train, palette=custom_palette)\n",
    "plt.title('Survival Rate by Number of Siblings/Spouses Aboard')\n",
    "plt.xlabel('Number of Siblings/Spouses Aboard (SibSp)')\n",
    "plt.ylabel('Survival Rate')\n",
    "\n",
    "plt.tight_layout()\n",
    "plt.show()\n",
    "for sibsp_count in sorted(train[\"SibSp\"].unique()):\n",
    "    survival_counts = train[\"Survived\"][train[\"SibSp\"] == sibsp_count].value_counts(normalize=True)\n",
    "    percentage = survival_counts.get(1, 0) * 100\n",
    "    print(f\"Percentage of SibSp = {sibsp_count} who survived:\", percentage)\n"
   ]
  },
  {
   "cell_type": "code",
   "execution_count": null,
   "id": "9ea3524c-2d31-4ec0-9ff1-b97d80637172",
   "metadata": {},
   "outputs": [],
   "source": []
  },
  {
   "cell_type": "markdown",
   "id": "e2627f6a-a347-471c-9fbf-af6870c01c56",
   "metadata": {},
   "source": [
    "# Handling the missing values"
   ]
  },
  {
   "cell_type": "code",
   "execution_count": 472,
   "id": "6d69b4fa-8f8d-4c74-9fd0-c5054cf7175b",
   "metadata": {},
   "outputs": [
    {
     "name": "stdout",
     "output_type": "stream",
     "text": [
      "   Survived  Pclass     Sex   Age  SibSp  Parch     Fare Embarked  \\\n",
      "0         0       3    male  22.0      1      0   7.2500        S   \n",
      "1         1       1  female  38.0      1      0  71.2833        C   \n",
      "\n",
      "      AgeGroup  CabinKnown  \n",
      "0  Young Adult           0  \n",
      "1        Adult           1  \n"
     ]
    }
   ],
   "source": [
    "\n",
    "columns_to_drop = ['PassengerId', 'Name', 'Ticket', 'Cabin'] #dropping column not necessary for predictions\n",
    "train = train.drop(columns_to_drop, axis=1)\n",
    "\n",
    "print(train.head(2))"
   ]
  },
  {
   "cell_type": "code",
   "execution_count": null,
   "id": "f5e0d072-c024-446b-81c1-d37a4a1618de",
   "metadata": {},
   "outputs": [],
   "source": []
  },
  {
   "cell_type": "code",
   "execution_count": 475,
   "id": "75b2e791-c6f2-40a6-b8fe-de97578526f0",
   "metadata": {},
   "outputs": [
    {
     "data": {
      "image/png": "[encoded data removed]",
      "text/plain": [
       "<Figure size 800x500 with 2 Axes>"
      ]
     },
     "metadata": {},
     "output_type": "display_data"
    }
   ],
   "source": [
    "import missingno\n",
    "missingno.matrix(train, figsize=(8,5), fontsize=12, color=(1, 0.38, 0.27));  #filling the missing values"
   ]
  },
  {
   "cell_type": "markdown",
   "id": "e5898cd9-9ddc-490b-b9a8-04b7e96937cb",
   "metadata": {},
   "source": [
    "-  converting the categorical variable into the numerical variable by using category_encoder"
   ]
  },
  {
   "cell_type": "code",
   "execution_count": 251,
   "id": "f57da8a7-c4da-4eca-a564-818b041c3e8b",
   "metadata": {},
   "outputs": [
    {
     "name": "stderr",
     "output_type": "stream",
     "text": [
      "C:\\Users\\PMLS\\anaconda3\\Lib\\site-packages\\category_encoders\\ordinal.py:198: FutureWarning: Downcasting object dtype arrays on .fillna, .ffill, .bfill is deprecated and will change in a future version. Call result.infer_objects(copy=False) instead. To opt-in to the future behavior, set `pd.set_option('future.no_silent_downcasting', True)`\n",
      "  X[column] = X[column].astype(\"object\").fillna(np.nan).map(col_mapping)\n",
      "C:\\Users\\PMLS\\anaconda3\\Lib\\site-packages\\category_encoders\\ordinal.py:198: FutureWarning: Downcasting object dtype arrays on .fillna, .ffill, .bfill is deprecated and will change in a future version. Call result.infer_objects(copy=False) instead. To opt-in to the future behavior, set `pd.set_option('future.no_silent_downcasting', True)`\n",
      "  X[column] = X[column].astype(\"object\").fillna(np.nan).map(col_mapping)\n",
      "C:\\Users\\PMLS\\anaconda3\\Lib\\site-packages\\category_encoders\\ordinal.py:198: FutureWarning: Downcasting object dtype arrays on .fillna, .ffill, .bfill is deprecated and will change in a future version. Call result.infer_objects(copy=False) instead. To opt-in to the future behavior, set `pd.set_option('future.no_silent_downcasting', True)`\n",
      "  X[column] = X[column].astype(\"object\").fillna(np.nan).map(col_mapping)\n",
      "C:\\Users\\PMLS\\anaconda3\\Lib\\site-packages\\category_encoders\\ordinal.py:198: FutureWarning: Downcasting object dtype arrays on .fillna, .ffill, .bfill is deprecated and will change in a future version. Call result.infer_objects(copy=False) instead. To opt-in to the future behavior, set `pd.set_option('future.no_silent_downcasting', True)`\n",
      "  X[column] = X[column].astype(\"object\").fillna(np.nan).map(col_mapping)\n"
     ]
    },
    {
     "data": {
      "text/html": [
       "<div>\n",
       "<style scoped>\n",
       "    .dataframe tbody tr th:only-of-type {\n",
       "        vertical-align: middle;\n",
       "    }\n",
       "\n",
       "    .dataframe tbody tr th {\n",
       "        vertical-align: top;\n",
       "    }\n",
       "\n",
       "    .dataframe thead th {\n",
       "        text-align: right;\n",
       "    }\n",
       "</style>\n",
       "<table border=\"1\" class=\"dataframe\">\n",
       "  <thead>\n",
       "    <tr style=\"text-align: right;\">\n",
       "      <th></th>\n",
       "      <th>Survived</th>\n",
       "      <th>Pclass</th>\n",
       "      <th>Sex</th>\n",
       "      <th>Age</th>\n",
       "      <th>SibSp</th>\n",
       "      <th>Parch</th>\n",
       "      <th>Fare</th>\n",
       "      <th>Embarked</th>\n",
       "      <th>AgeGroup</th>\n",
       "      <th>CabinKnown</th>\n",
       "      <th>CabinBool</th>\n",
       "    </tr>\n",
       "  </thead>\n",
       "  <tbody>\n",
       "    <tr>\n",
       "      <th>0</th>\n",
       "      <td>1</td>\n",
       "      <td>1</td>\n",
       "      <td>1</td>\n",
       "      <td>22.0</td>\n",
       "      <td>1</td>\n",
       "      <td>0</td>\n",
       "      <td>7.2500</td>\n",
       "      <td>1</td>\n",
       "      <td>3</td>\n",
       "      <td>0</td>\n",
       "      <td>0</td>\n",
       "    </tr>\n",
       "    <tr>\n",
       "      <th>1</th>\n",
       "      <td>2</td>\n",
       "      <td>2</td>\n",
       "      <td>2</td>\n",
       "      <td>38.0</td>\n",
       "      <td>1</td>\n",
       "      <td>0</td>\n",
       "      <td>71.2833</td>\n",
       "      <td>2</td>\n",
       "      <td>4</td>\n",
       "      <td>1</td>\n",
       "      <td>1</td>\n",
       "    </tr>\n",
       "    <tr>\n",
       "      <th>2</th>\n",
       "      <td>2</td>\n",
       "      <td>1</td>\n",
       "      <td>2</td>\n",
       "      <td>26.0</td>\n",
       "      <td>0</td>\n",
       "      <td>0</td>\n",
       "      <td>7.9250</td>\n",
       "      <td>1</td>\n",
       "      <td>3</td>\n",
       "      <td>0</td>\n",
       "      <td>0</td>\n",
       "    </tr>\n",
       "    <tr>\n",
       "      <th>3</th>\n",
       "      <td>2</td>\n",
       "      <td>2</td>\n",
       "      <td>2</td>\n",
       "      <td>35.0</td>\n",
       "      <td>1</td>\n",
       "      <td>0</td>\n",
       "      <td>53.1000</td>\n",
       "      <td>1</td>\n",
       "      <td>3</td>\n",
       "      <td>1</td>\n",
       "      <td>1</td>\n",
       "    </tr>\n",
       "    <tr>\n",
       "      <th>4</th>\n",
       "      <td>1</td>\n",
       "      <td>1</td>\n",
       "      <td>1</td>\n",
       "      <td>35.0</td>\n",
       "      <td>0</td>\n",
       "      <td>0</td>\n",
       "      <td>8.0500</td>\n",
       "      <td>1</td>\n",
       "      <td>3</td>\n",
       "      <td>0</td>\n",
       "      <td>0</td>\n",
       "    </tr>\n",
       "    <tr>\n",
       "      <th>5</th>\n",
       "      <td>1</td>\n",
       "      <td>1</td>\n",
       "      <td>1</td>\n",
       "      <td>28.0</td>\n",
       "      <td>0</td>\n",
       "      <td>0</td>\n",
       "      <td>8.4583</td>\n",
       "      <td>3</td>\n",
       "      <td>3</td>\n",
       "      <td>0</td>\n",
       "      <td>0</td>\n",
       "    </tr>\n",
       "    <tr>\n",
       "      <th>6</th>\n",
       "      <td>1</td>\n",
       "      <td>2</td>\n",
       "      <td>1</td>\n",
       "      <td>54.0</td>\n",
       "      <td>0</td>\n",
       "      <td>0</td>\n",
       "      <td>51.8625</td>\n",
       "      <td>1</td>\n",
       "      <td>4</td>\n",
       "      <td>1</td>\n",
       "      <td>1</td>\n",
       "    </tr>\n",
       "    <tr>\n",
       "      <th>7</th>\n",
       "      <td>1</td>\n",
       "      <td>1</td>\n",
       "      <td>1</td>\n",
       "      <td>2.0</td>\n",
       "      <td>3</td>\n",
       "      <td>1</td>\n",
       "      <td>21.0750</td>\n",
       "      <td>1</td>\n",
       "      <td>1</td>\n",
       "      <td>0</td>\n",
       "      <td>0</td>\n",
       "    </tr>\n",
       "    <tr>\n",
       "      <th>8</th>\n",
       "      <td>2</td>\n",
       "      <td>1</td>\n",
       "      <td>2</td>\n",
       "      <td>27.0</td>\n",
       "      <td>0</td>\n",
       "      <td>2</td>\n",
       "      <td>11.1333</td>\n",
       "      <td>1</td>\n",
       "      <td>3</td>\n",
       "      <td>0</td>\n",
       "      <td>0</td>\n",
       "    </tr>\n",
       "    <tr>\n",
       "      <th>9</th>\n",
       "      <td>2</td>\n",
       "      <td>3</td>\n",
       "      <td>2</td>\n",
       "      <td>14.0</td>\n",
       "      <td>1</td>\n",
       "      <td>0</td>\n",
       "      <td>30.0708</td>\n",
       "      <td>2</td>\n",
       "      <td>2</td>\n",
       "      <td>0</td>\n",
       "      <td>0</td>\n",
       "    </tr>\n",
       "    <tr>\n",
       "      <th>10</th>\n",
       "      <td>2</td>\n",
       "      <td>1</td>\n",
       "      <td>2</td>\n",
       "      <td>4.0</td>\n",
       "      <td>1</td>\n",
       "      <td>1</td>\n",
       "      <td>16.7000</td>\n",
       "      <td>1</td>\n",
       "      <td>1</td>\n",
       "      <td>1</td>\n",
       "      <td>1</td>\n",
       "    </tr>\n",
       "    <tr>\n",
       "      <th>11</th>\n",
       "      <td>2</td>\n",
       "      <td>2</td>\n",
       "      <td>2</td>\n",
       "      <td>58.0</td>\n",
       "      <td>0</td>\n",
       "      <td>0</td>\n",
       "      <td>26.5500</td>\n",
       "      <td>1</td>\n",
       "      <td>4</td>\n",
       "      <td>1</td>\n",
       "      <td>1</td>\n",
       "    </tr>\n",
       "    <tr>\n",
       "      <th>12</th>\n",
       "      <td>1</td>\n",
       "      <td>1</td>\n",
       "      <td>1</td>\n",
       "      <td>20.0</td>\n",
       "      <td>0</td>\n",
       "      <td>0</td>\n",
       "      <td>8.0500</td>\n",
       "      <td>1</td>\n",
       "      <td>3</td>\n",
       "      <td>0</td>\n",
       "      <td>0</td>\n",
       "    </tr>\n",
       "    <tr>\n",
       "      <th>13</th>\n",
       "      <td>1</td>\n",
       "      <td>1</td>\n",
       "      <td>1</td>\n",
       "      <td>39.0</td>\n",
       "      <td>1</td>\n",
       "      <td>5</td>\n",
       "      <td>31.2750</td>\n",
       "      <td>1</td>\n",
       "      <td>4</td>\n",
       "      <td>0</td>\n",
       "      <td>0</td>\n",
       "    </tr>\n",
       "    <tr>\n",
       "      <th>14</th>\n",
       "      <td>1</td>\n",
       "      <td>1</td>\n",
       "      <td>2</td>\n",
       "      <td>14.0</td>\n",
       "      <td>0</td>\n",
       "      <td>0</td>\n",
       "      <td>7.8542</td>\n",
       "      <td>1</td>\n",
       "      <td>2</td>\n",
       "      <td>0</td>\n",
       "      <td>0</td>\n",
       "    </tr>\n",
       "  </tbody>\n",
       "</table>\n",
       "</div>"
      ],
      "text/plain": [
       "    Survived  Pclass  Sex   Age  SibSp  Parch     Fare  Embarked  AgeGroup  \\\n",
       "0          1       1    1  22.0      1      0   7.2500         1         3   \n",
       "1          2       2    2  38.0      1      0  71.2833         2         4   \n",
       "2          2       1    2  26.0      0      0   7.9250         1         3   \n",
       "3          2       2    2  35.0      1      0  53.1000         1         3   \n",
       "4          1       1    1  35.0      0      0   8.0500         1         3   \n",
       "5          1       1    1  28.0      0      0   8.4583         3         3   \n",
       "6          1       2    1  54.0      0      0  51.8625         1         4   \n",
       "7          1       1    1   2.0      3      1  21.0750         1         1   \n",
       "8          2       1    2  27.0      0      2  11.1333         1         3   \n",
       "9          2       3    2  14.0      1      0  30.0708         2         2   \n",
       "10         2       1    2   4.0      1      1  16.7000         1         1   \n",
       "11         2       2    2  58.0      0      0  26.5500         1         4   \n",
       "12         1       1    1  20.0      0      0   8.0500         1         3   \n",
       "13         1       1    1  39.0      1      5  31.2750         1         4   \n",
       "14         1       1    2  14.0      0      0   7.8542         1         2   \n",
       "\n",
       "    CabinKnown  CabinBool  \n",
       "0            0          0  \n",
       "1            1          1  \n",
       "2            0          0  \n",
       "3            1          1  \n",
       "4            0          0  \n",
       "5            0          0  \n",
       "6            1          1  \n",
       "7            0          0  \n",
       "8            0          0  \n",
       "9            0          0  \n",
       "10           1          1  \n",
       "11           1          1  \n",
       "12           0          0  \n",
       "13           0          0  \n",
       "14           0          0  "
      ]
     },
     "execution_count": 251,
     "metadata": {},
     "output_type": "execute_result"
    }
   ],
   "source": [
    "\n",
    "import category_encoders as ce\n",
    "encoder = ce.OrdinalEncoder(cols=['Survived','Pclass','Sex','Embarked','AgeGroup'])\n",
    "train_enc= encoder.fit_transform(train)\n",
    "train_enc.head(15)"
   ]
  },
  {
   "cell_type": "markdown",
   "id": "8ea447ad-62f6-4cfa-bcaa-8ce4904eaba3",
   "metadata": {},
   "source": [
    "# numeric codes for each age group:\n",
    "- Young Adult= 3\n",
    "- Adult= 4\n",
    "- child= 1\n",
    "- Teen= 2\n",
    "- senior= 5\n",
    "\n",
    "\n"
   ]
  },
  {
   "cell_type": "markdown",
   "id": "4e119087-d293-4b44-af54-ddf0c1f989eb",
   "metadata": {},
   "source": [
    "# Training and testing"
   ]
  },
  {
   "cell_type": "code",
   "execution_count": 253,
   "id": "3a5d142c-c07b-4b40-9c32-f90f7f9a5f5d",
   "metadata": {},
   "outputs": [],
   "source": [
    "x= train_enc.drop(['Survived'],axis=1)\n",
    "y = train['Survived']"
   ]
  },
  {
   "cell_type": "markdown",
   "id": "efc660d3-ef8a-49f4-82f7-49e59de05402",
   "metadata": {},
   "source": [
    "- splitting the dataset "
   ]
  },
  {
   "cell_type": "code",
   "execution_count": 256,
   "id": "3b7eb2fb-a0db-4ccf-8ac1-d1c74e2345d5",
   "metadata": {},
   "outputs": [],
   "source": [
    "xtrain,xtest,ytrain,ytest=train_test_split(x,y,test_size=.3,random_state= 21)"
   ]
  },
  {
   "cell_type": "code",
   "execution_count": 266,
   "id": "90ee6670-303f-45f1-ae76-e2342db42eca",
   "metadata": {},
   "outputs": [
    {
     "data": {
      "text/html": [
       "<div>\n",
       "<style scoped>\n",
       "    .dataframe tbody tr th:only-of-type {\n",
       "        vertical-align: middle;\n",
       "    }\n",
       "\n",
       "    .dataframe tbody tr th {\n",
       "        vertical-align: top;\n",
       "    }\n",
       "\n",
       "    .dataframe thead th {\n",
       "        text-align: right;\n",
       "    }\n",
       "</style>\n",
       "<table border=\"1\" class=\"dataframe\">\n",
       "  <thead>\n",
       "    <tr style=\"text-align: right;\">\n",
       "      <th></th>\n",
       "      <th>Pclass</th>\n",
       "      <th>Sex</th>\n",
       "      <th>Age</th>\n",
       "      <th>SibSp</th>\n",
       "      <th>Parch</th>\n",
       "      <th>Fare</th>\n",
       "      <th>Embarked</th>\n",
       "      <th>AgeGroup</th>\n",
       "      <th>CabinKnown</th>\n",
       "      <th>CabinBool</th>\n",
       "    </tr>\n",
       "  </thead>\n",
       "  <tbody>\n",
       "    <tr>\n",
       "      <th>241</th>\n",
       "      <td>1</td>\n",
       "      <td>2</td>\n",
       "      <td>28.0</td>\n",
       "      <td>1</td>\n",
       "      <td>0</td>\n",
       "      <td>15.5000</td>\n",
       "      <td>3</td>\n",
       "      <td>3</td>\n",
       "      <td>0</td>\n",
       "      <td>0</td>\n",
       "    </tr>\n",
       "    <tr>\n",
       "      <th>734</th>\n",
       "      <td>3</td>\n",
       "      <td>1</td>\n",
       "      <td>23.0</td>\n",
       "      <td>0</td>\n",
       "      <td>0</td>\n",
       "      <td>13.0000</td>\n",
       "      <td>1</td>\n",
       "      <td>3</td>\n",
       "      <td>0</td>\n",
       "      <td>0</td>\n",
       "    </tr>\n",
       "    <tr>\n",
       "      <th>581</th>\n",
       "      <td>2</td>\n",
       "      <td>2</td>\n",
       "      <td>39.0</td>\n",
       "      <td>1</td>\n",
       "      <td>1</td>\n",
       "      <td>110.8833</td>\n",
       "      <td>2</td>\n",
       "      <td>4</td>\n",
       "      <td>1</td>\n",
       "      <td>1</td>\n",
       "    </tr>\n",
       "    <tr>\n",
       "      <th>456</th>\n",
       "      <td>2</td>\n",
       "      <td>1</td>\n",
       "      <td>65.0</td>\n",
       "      <td>0</td>\n",
       "      <td>0</td>\n",
       "      <td>26.5500</td>\n",
       "      <td>1</td>\n",
       "      <td>5</td>\n",
       "      <td>1</td>\n",
       "      <td>1</td>\n",
       "    </tr>\n",
       "    <tr>\n",
       "      <th>118</th>\n",
       "      <td>2</td>\n",
       "      <td>1</td>\n",
       "      <td>24.0</td>\n",
       "      <td>0</td>\n",
       "      <td>1</td>\n",
       "      <td>247.5208</td>\n",
       "      <td>2</td>\n",
       "      <td>3</td>\n",
       "      <td>1</td>\n",
       "      <td>1</td>\n",
       "    </tr>\n",
       "    <tr>\n",
       "      <th>621</th>\n",
       "      <td>2</td>\n",
       "      <td>1</td>\n",
       "      <td>42.0</td>\n",
       "      <td>1</td>\n",
       "      <td>0</td>\n",
       "      <td>52.5542</td>\n",
       "      <td>1</td>\n",
       "      <td>4</td>\n",
       "      <td>1</td>\n",
       "      <td>1</td>\n",
       "    </tr>\n",
       "    <tr>\n",
       "      <th>162</th>\n",
       "      <td>1</td>\n",
       "      <td>1</td>\n",
       "      <td>26.0</td>\n",
       "      <td>0</td>\n",
       "      <td>0</td>\n",
       "      <td>7.7750</td>\n",
       "      <td>1</td>\n",
       "      <td>3</td>\n",
       "      <td>0</td>\n",
       "      <td>0</td>\n",
       "    </tr>\n",
       "    <tr>\n",
       "      <th>46</th>\n",
       "      <td>1</td>\n",
       "      <td>1</td>\n",
       "      <td>28.0</td>\n",
       "      <td>1</td>\n",
       "      <td>0</td>\n",
       "      <td>15.5000</td>\n",
       "      <td>3</td>\n",
       "      <td>3</td>\n",
       "      <td>0</td>\n",
       "      <td>0</td>\n",
       "    </tr>\n",
       "    <tr>\n",
       "      <th>709</th>\n",
       "      <td>1</td>\n",
       "      <td>1</td>\n",
       "      <td>28.0</td>\n",
       "      <td>1</td>\n",
       "      <td>1</td>\n",
       "      <td>15.2458</td>\n",
       "      <td>2</td>\n",
       "      <td>3</td>\n",
       "      <td>0</td>\n",
       "      <td>0</td>\n",
       "    </tr>\n",
       "    <tr>\n",
       "      <th>647</th>\n",
       "      <td>2</td>\n",
       "      <td>1</td>\n",
       "      <td>56.0</td>\n",
       "      <td>0</td>\n",
       "      <td>0</td>\n",
       "      <td>35.5000</td>\n",
       "      <td>2</td>\n",
       "      <td>4</td>\n",
       "      <td>1</td>\n",
       "      <td>1</td>\n",
       "    </tr>\n",
       "    <tr>\n",
       "      <th>582</th>\n",
       "      <td>3</td>\n",
       "      <td>1</td>\n",
       "      <td>54.0</td>\n",
       "      <td>0</td>\n",
       "      <td>0</td>\n",
       "      <td>26.0000</td>\n",
       "      <td>1</td>\n",
       "      <td>4</td>\n",
       "      <td>0</td>\n",
       "      <td>0</td>\n",
       "    </tr>\n",
       "    <tr>\n",
       "      <th>317</th>\n",
       "      <td>3</td>\n",
       "      <td>1</td>\n",
       "      <td>54.0</td>\n",
       "      <td>0</td>\n",
       "      <td>0</td>\n",
       "      <td>14.0000</td>\n",
       "      <td>1</td>\n",
       "      <td>4</td>\n",
       "      <td>0</td>\n",
       "      <td>0</td>\n",
       "    </tr>\n",
       "    <tr>\n",
       "      <th>37</th>\n",
       "      <td>1</td>\n",
       "      <td>1</td>\n",
       "      <td>21.0</td>\n",
       "      <td>0</td>\n",
       "      <td>0</td>\n",
       "      <td>8.0500</td>\n",
       "      <td>1</td>\n",
       "      <td>3</td>\n",
       "      <td>0</td>\n",
       "      <td>0</td>\n",
       "    </tr>\n",
       "    <tr>\n",
       "      <th>18</th>\n",
       "      <td>1</td>\n",
       "      <td>2</td>\n",
       "      <td>31.0</td>\n",
       "      <td>1</td>\n",
       "      <td>0</td>\n",
       "      <td>18.0000</td>\n",
       "      <td>1</td>\n",
       "      <td>3</td>\n",
       "      <td>0</td>\n",
       "      <td>0</td>\n",
       "    </tr>\n",
       "    <tr>\n",
       "      <th>760</th>\n",
       "      <td>1</td>\n",
       "      <td>1</td>\n",
       "      <td>28.0</td>\n",
       "      <td>0</td>\n",
       "      <td>0</td>\n",
       "      <td>14.5000</td>\n",
       "      <td>1</td>\n",
       "      <td>3</td>\n",
       "      <td>0</td>\n",
       "      <td>0</td>\n",
       "    </tr>\n",
       "  </tbody>\n",
       "</table>\n",
       "</div>"
      ],
      "text/plain": [
       "     Pclass  Sex   Age  SibSp  Parch      Fare  Embarked  AgeGroup  \\\n",
       "241       1    2  28.0      1      0   15.5000         3         3   \n",
       "734       3    1  23.0      0      0   13.0000         1         3   \n",
       "581       2    2  39.0      1      1  110.8833         2         4   \n",
       "456       2    1  65.0      0      0   26.5500         1         5   \n",
       "118       2    1  24.0      0      1  247.5208         2         3   \n",
       "621       2    1  42.0      1      0   52.5542         1         4   \n",
       "162       1    1  26.0      0      0    7.7750         1         3   \n",
       "46        1    1  28.0      1      0   15.5000         3         3   \n",
       "709       1    1  28.0      1      1   15.2458         2         3   \n",
       "647       2    1  56.0      0      0   35.5000         2         4   \n",
       "582       3    1  54.0      0      0   26.0000         1         4   \n",
       "317       3    1  54.0      0      0   14.0000         1         4   \n",
       "37        1    1  21.0      0      0    8.0500         1         3   \n",
       "18        1    2  31.0      1      0   18.0000         1         3   \n",
       "760       1    1  28.0      0      0   14.5000         1         3   \n",
       "\n",
       "     CabinKnown  CabinBool  \n",
       "241           0          0  \n",
       "734           0          0  \n",
       "581           1          1  \n",
       "456           1          1  \n",
       "118           1          1  \n",
       "621           1          1  \n",
       "162           0          0  \n",
       "46            0          0  \n",
       "709           0          0  \n",
       "647           1          1  \n",
       "582           0          0  \n",
       "317           0          0  \n",
       "37            0          0  \n",
       "18            0          0  \n",
       "760           0          0  "
      ]
     },
     "execution_count": 266,
     "metadata": {},
     "output_type": "execute_result"
    }
   ],
   "source": [
    "xtrain.head(15)\n",
    "\n"
   ]
  },
  {
   "cell_type": "code",
   "execution_count": 260,
   "id": "f903c217-e767-4959-b7fc-4798a3c7722a",
   "metadata": {},
   "outputs": [
    {
     "data": {
      "text/plain": [
       "0    0\n",
       "1    1\n",
       "2    1\n",
       "3    1\n",
       "4    0\n",
       "Name: Survived, dtype: int64"
      ]
     },
     "execution_count": 260,
     "metadata": {},
     "output_type": "execute_result"
    }
   ],
   "source": [
    "y.head()"
   ]
  },
  {
   "cell_type": "markdown",
   "id": "682cd639-b0c2-42d5-8b1b-eb0de855e1c8",
   "metadata": {},
   "source": [
    "# Model Implementation"
   ]
  },
  {
   "cell_type": "markdown",
   "id": "7c6c71c5-b81a-4f62-8e33-c763a90ab381",
   "metadata": {},
   "source": [
    "# Logistic Regression"
   ]
  },
  {
   "cell_type": "code",
   "execution_count": 485,
   "id": "fe5b76b1-3271-4a2e-befe-154c777b27bf",
   "metadata": {},
   "outputs": [
    {
     "name": "stdout",
     "output_type": "stream",
     "text": [
      "Training dataset score: 0.81 \n",
      "\n",
      "Test dataset score: 0.83 \n",
      "\n",
      "Accuracy Score: 0.83 \n",
      "\n"
     ]
    },
    {
     "name": "stderr",
     "output_type": "stream",
     "text": [
      "C:\\Users\\PMLS\\anaconda3\\Lib\\site-packages\\sklearn\\linear_model\\_logistic.py:469: ConvergenceWarning: lbfgs failed to converge (status=1):\n",
      "STOP: TOTAL NO. of ITERATIONS REACHED LIMIT.\n",
      "\n",
      "Increase the number of iterations (max_iter) or scale the data as shown in:\n",
      "    https://scikit-learn.org/stable/modules/preprocessing.html\n",
      "Please also refer to the documentation for alternative solver options:\n",
      "    https://scikit-learn.org/stable/modules/linear_model.html#logistic-regression\n",
      "  n_iter_i = _check_optimize_result(\n"
     ]
    }
   ],
   "source": [
    "model = LogisticRegression()\n",
    "model.fit(xtrain, ytrain)\n",
    "train_predictions = model.predict(x)\n",
    "\n",
    "print(\"Training dataset score: {:.2f}\".format(model.score(xtrain, ytrain)),'\\n')\n",
    "print(\"Test dataset score: {:.2f}\".format(model.score(xtest, ytest)),'\\n')\n",
    "print(\"Accuracy Score: {:0.2f}\".format(accuracy_score(ytest,y_predict)),'\\n')"
   ]
  },
  {
   "cell_type": "markdown",
   "id": "09598cb5-c91e-4c92-9031-9a236847b23f",
   "metadata": {},
   "source": [
    "- Classification Report"
   ]
  },
  {
   "cell_type": "code",
   "execution_count": 333,
   "id": "1ce33300-ae7f-4f2c-aeb4-8915f14af955",
   "metadata": {},
   "outputs": [
    {
     "name": "stdout",
     "output_type": "stream",
     "text": [
      "Classification_Report: \n",
      "               precision    recall  f1-score   support\n",
      "\n",
      "           0       0.84      0.89      0.86       161\n",
      "           1       0.82      0.74      0.78       107\n",
      "\n",
      "    accuracy                           0.83       268\n",
      "   macro avg       0.83      0.82      0.82       268\n",
      "weighted avg       0.83      0.83      0.83       268\n",
      "\n"
     ]
    }
   ],
   "source": [
    "print(\"Classification_Report: \\n\",classification_report(ytest,y_predict))"
   ]
  },
  {
   "cell_type": "markdown",
   "id": "bccdaf91-c6bd-4a76-a871-7fb869fc2f20",
   "metadata": {},
   "source": [
    "- Confusion Matrix"
   ]
  },
  {
   "cell_type": "code",
   "execution_count": 336,
   "id": "60f599a9-5d0a-4937-98d9-380902e92244",
   "metadata": {},
   "outputs": [
    {
     "name": "stdout",
     "output_type": "stream",
     "text": [
      "Confusion Matrix: \n",
      " [[144  17]\n",
      " [ 28  79]] \n",
      "\n"
     ]
    },
    {
     "data": {
      "image/png": "[encoded data removed]",
      "text/plain": [
       "<Figure size 400x300 with 2 Axes>"
      ]
     },
     "metadata": {},
     "output_type": "display_data"
    }
   ],
   "source": [
    "print(\"Confusion Matrix: \\n\",confusion_matrix(ytest,y_predict),'\\n')\n",
    "cm = confusion_matrix(ytest, y_predict)\n",
    "plt.figure(figsize=(4, 3))\n",
    "sns.heatmap(cm, annot=True, fmt='d', cmap='Reds', xticklabels=['Not Survived', 'Survived'], yticklabels=['Not Survived', 'Survived'])\n",
    "plt.xlabel('Predicted')\n",
    "plt.ylabel('Actual')\n",
    "plt.title('Confusion Matrix')\n",
    "plt.show()"
   ]
  },
  {
   "cell_type": "markdown",
   "id": "e3a88b5a-7366-49b2-9294-71c90d2ce892",
   "metadata": {},
   "source": [
    "# Survived Passenger With Names"
   ]
  },
  {
   "cell_type": "code",
   "execution_count": 317,
   "id": "ecd8eca1-2449-4964-a659-e1d60d559dbe",
   "metadata": {},
   "outputs": [
    {
     "name": "stdout",
     "output_type": "stream",
     "text": [
      "                                                   Name  Predicted Survival\n",
      "0                               Braund, Mr. Owen Harris                   0\n",
      "1   Cumings, Mrs. John Bradley (Florence Briggs Thayer)                   1\n",
      "2                                Heikkinen, Miss. Laina                   1\n",
      "3          Futrelle, Mrs. Jacques Heath (Lily May Peel)                   1\n",
      "4                              Allen, Mr. William Henry                   0\n",
      "5                                      Moran, Mr. James                   0\n",
      "6                               McCarthy, Mr. Timothy J                   0\n",
      "7                        Palsson, Master. Gosta Leonard                   0\n",
      "8     Johnson, Mrs. Oscar W (Elisabeth Vilhelmina Berg)                   0\n",
      "9                   Nasser, Mrs. Nicholas (Adele Achem)                   1\n",
      "10                      Sandstrom, Miss. Marguerite Rut                   1\n",
      "11                             Bonnell, Miss. Elizabeth                   1\n",
      "12                       Saundercock, Mr. William Henry                   0\n",
      "13                          Andersson, Mr. Anders Johan                   0\n",
      "14                 Vestrom, Miss. Hulda Amanda Adolfina                   1\n"
     ]
    }
   ],
   "source": [
    "train_predictions = model.predict(x)\n",
    "\n",
    "# Create a DataFrame for the output\n",
    "results_train = pd.DataFrame({\n",
    "    'Name': train['Name'],\n",
    "    'Predicted Survival': train_predictions\n",
    "})\n",
    "\n",
    "# Display the results DataFrame\n",
    "pd.set_option('display.max_colwidth', None)  # Ensure full display of 'Name' column\n",
    "print(results_train.head(15))  # Adjust the number in head() to display more or fewer rows"
   ]
  },
  {
   "cell_type": "markdown",
   "id": "3dc9d7e5-f59c-4752-a15f-25e934d59556",
   "metadata": {},
   "source": [
    "# Performance Matrices"
   ]
  },
  {
   "cell_type": "code",
   "execution_count": 272,
   "id": "80bb02d2-62f3-4881-8288-169ae42f3c4e",
   "metadata": {},
   "outputs": [
    {
     "name": "stdout",
     "output_type": "stream",
     "text": [
      "Logistic Regression Accuracy:  83.21%\n",
      "MAE: 0.16791044776119404\n",
      "MSE: 0.16791044776119404\n",
      "RMSE: 0.4097687735311148\n"
     ]
    }
   ],
   "source": [
    "accuracy = accuracy_score(ytest,y_predict) * 100\n",
    "print(\"Logistic Regression Accuracy:  \" +str(round(accuracy,2)) + '%')\n",
    "from sklearn import metrics\n",
    "print('MAE:', metrics.mean_absolute_error(ytest,y_predict))\n",
    "print('MSE:', metrics.mean_squared_error(ytest,y_predict))\n",
    "print('RMSE:',np.sqrt(metrics.mean_absolute_error(ytest,y_predict)))"
   ]
  },
  {
   "cell_type": "markdown",
   "id": "1255363c-32fd-4ed5-a877-153ff27c109a",
   "metadata": {},
   "source": [
    "- Accuracy: 83.21% is quite good, indicating that  model has correctly classified about 83% of the cases.\n",
    "- MAE: 0.168 is relatively low, suggesting that the average error in the  predictions is reasonably small.\n",
    "- MSE: 0.168 is the same as MAE in this case which  indicates the squared errors average out similarly to absolute errors.\n",
    "- RMSE: 0.410 the error magnitude in the same units as  target variable, and this is also relatively low."
   ]
  },
  {
   "cell_type": "markdown",
   "id": "e64556df-757f-4bbb-8400-14f03bb56730",
   "metadata": {},
   "source": [
    "# K - Nearest Neighbour"
   ]
  },
  {
   "cell_type": "code",
   "execution_count": 353,
   "id": "ee419eb4-e8b2-4cf2-bca7-4914d4b2163b",
   "metadata": {},
   "outputs": [
    {
     "name": "stdout",
     "output_type": "stream",
     "text": [
      "Training set score: 0.78\n",
      "Test set score: 0.73\n",
      "Accuracy Score: 0.73\n"
     ]
    }
   ],
   "source": [
    "\n",
    "knn = KNeighborsClassifier(9)\n",
    "knn.fit(xtrain,ytrain)\n",
    "y_pred_knn = knn.predict(xtest)\n",
    "\n",
    "print(\"Training set score: {:.2f}\".format(knn.score(xtrain, ytrain)))\n",
    "print(\"Test set score: {:.2f}\".format(knn.score(xtest, ytest)))\n",
    "print(\"Accuracy Score: {:0.2f}\".format(accuracy_score(ytest,y_pred_knn)))"
   ]
  },
  {
   "cell_type": "markdown",
   "id": "c16944cf-8cdb-49bb-a52a-830355c659f9",
   "metadata": {},
   "source": [
    "- Classification Report"
   ]
  },
  {
   "cell_type": "code",
   "execution_count": 355,
   "id": "86ffee63-76d1-4861-860f-2fb680d6036c",
   "metadata": {},
   "outputs": [
    {
     "name": "stdout",
     "output_type": "stream",
     "text": [
      "Classification_Report: \n",
      "               precision    recall  f1-score   support\n",
      "\n",
      "           0       0.73      0.86      0.79       161\n",
      "           1       0.71      0.53      0.61       107\n",
      "\n",
      "    accuracy                           0.73       268\n",
      "   macro avg       0.72      0.69      0.70       268\n",
      "weighted avg       0.73      0.73      0.72       268\n",
      "\n"
     ]
    }
   ],
   "source": [
    "print(\"Classification_Report: \\n\",classification_report(ytest,y_pred_knn))"
   ]
  },
  {
   "cell_type": "markdown",
   "id": "9a6443df-ca92-4370-acb4-59f3f4c18faa",
   "metadata": {},
   "source": [
    "- Confusion Matrix"
   ]
  },
  {
   "cell_type": "code",
   "execution_count": 357,
   "id": "eaa8b9a2-1590-4ca2-af96-c5a6d28a5083",
   "metadata": {},
   "outputs": [
    {
     "data": {
      "image/png": "[encoded data removed]",
      "text/plain": [
       "<Figure size 400x300 with 2 Axes>"
      ]
     },
     "metadata": {},
     "output_type": "display_data"
    }
   ],
   "source": [
    "cm = confusion_matrix(ytest, y_pred_knn)\n",
    "plt.figure(figsize=(4, 3))\n",
    "sns.heatmap(cm, annot=True, fmt='d', cmap='Reds', xticklabels=['Not Survived', 'Survived'], yticklabels=['Not Survived', 'Survived'])\n",
    "plt.xlabel('Predicted')\n",
    "plt.ylabel('Actual')\n",
    "plt.title('Confusion Matrix')\n",
    "plt.show()"
   ]
  },
  {
   "cell_type": "markdown",
   "id": "554e7381-fb0e-4572-9ab3-775d655e8c35",
   "metadata": {},
   "source": [
    "# Survived Passenger Names ( Predicted)"
   ]
  },
  {
   "cell_type": "code",
   "execution_count": 497,
   "id": "888cbe64-5c93-443e-be54-59bc2b80528f",
   "metadata": {},
   "outputs": [
    {
     "name": "stdout",
     "output_type": "stream",
     "text": [
      "                                                   Name  Predicted Survival\n",
      "0                               Braund, Mr. Owen Harris                   0\n",
      "1   Cumings, Mrs. John Bradley (Florence Briggs Thayer)                   1\n",
      "2                                Heikkinen, Miss. Laina                   0\n",
      "3          Futrelle, Mrs. Jacques Heath (Lily May Peel)                   1\n",
      "4                              Allen, Mr. William Henry                   0\n",
      "5                                      Moran, Mr. James                   0\n",
      "6                               McCarthy, Mr. Timothy J                   1\n",
      "7                        Palsson, Master. Gosta Leonard                   1\n",
      "8     Johnson, Mrs. Oscar W (Elisabeth Vilhelmina Berg)                   0\n",
      "9                   Nasser, Mrs. Nicholas (Adele Achem)                   0\n",
      "10                      Sandstrom, Miss. Marguerite Rut                   1\n",
      "11                             Bonnell, Miss. Elizabeth                   0\n",
      "12                       Saundercock, Mr. William Henry                   0\n",
      "13                          Andersson, Mr. Anders Johan                   0\n",
      "14                 Vestrom, Miss. Hulda Amanda Adolfina                   0\n"
     ]
    }
   ],
   "source": [
    "train_predictions_knn = knn.predict(x)\n",
    "\n",
    "results_train_knn = pd.DataFrame({ #creatingg a DataFrame for the output and print it\n",
    "    'Name': train['Name'],\n",
    "    'Predicted Survival': train_predictions_knn\n",
    "})\n",
    "\n",
    "pd.set_option('display.max_colwidth', None)  # ensuring full display of 'Name' column\n",
    "print(results_train_knn.head(15))  # adjusting the number in head() to display more or fewer rows"
   ]
  },
  {
   "cell_type": "markdown",
   "id": "76560516-18c3-4b8e-9995-2db1b447bf84",
   "metadata": {},
   "source": [
    "# Comparison Of KNN and Logistic Regression Prediction:"
   ]
  },
  {
   "cell_type": "code",
   "execution_count": 499,
   "id": "a206f749-d96c-4448-af9c-8bed604a7f2e",
   "metadata": {},
   "outputs": [
    {
     "name": "stdout",
     "output_type": "stream",
     "text": [
      "                                                Name  Actual Survival  \\\n",
      "617  Lobb, Mrs. William Arthur (Cordelia K Stanlick)                0   \n",
      "379                      Gustafsson, Mr. Karl Gideon                0   \n",
      "725                              Oreskovic, Mr. Luka                0   \n",
      "826                                     Lam, Mr. Len                0   \n",
      "450                            West, Mr. Edwy Arthur                0   \n",
      "147                 Ford, Miss. Robina Maggie \"Ruby\"                0   \n",
      "698                         Thayer, Mr. John Borland                0   \n",
      "397                          McKane, Mr. Peter David                0   \n",
      "525                               Farrell, Mr. James                0   \n",
      "505       Penasco y Castellana, Mr. Victor de Satode                0   \n",
      "180                     Sage, Miss. Constance Gladys                0   \n",
      "255          Touma, Mrs. Darwis (Hanne Youssef Razi)                1   \n",
      "433                       Kallio, Mr. Nikolai Erland                0   \n",
      "232                        Sjostedt, Mr. Ernst Adolf                0   \n",
      "405                               Gale, Mr. Shadrach                0   \n",
      "\n",
      "     Logistic Regression Prediction  KNN Prediction  Match  \n",
      "617                               1               0  False  \n",
      "379                               0               0   True  \n",
      "725                               0               0   True  \n",
      "826                               0               1  False  \n",
      "450                               0               1  False  \n",
      "147                               1               0  False  \n",
      "698                               0               1  False  \n",
      "397                               0               1  False  \n",
      "525                               0               0   True  \n",
      "505                               1               1   True  \n",
      "180                               0               0   True  \n",
      "255                               1               0  False  \n",
      "433                               0               0   True  \n",
      "232                               0               0   True  \n",
      "405                               0               0   True  \n",
      "\n",
      "\n",
      "\n",
      "Percentage of Matching Predictions: 70.90%\n"
     ]
    }
   ],
   "source": [
    "\n",
    "results_comparison = pd.DataFrame({ #combining predictions into a DataFrame\n",
    "    'Name': train['Name'].iloc[xtest.index],\n",
    "    'Actual Survival': ytest,\n",
    "    'Logistic Regression Prediction': y_predict,\n",
    "    'KNN Prediction': y_pred_knn\n",
    "})\n",
    "\n",
    "results_comparison['Match'] = results_comparison['Logistic Regression Prediction'] == results_comparison['KNN Prediction'] # adding a column to show if predictions match\n",
    "\n",
    "pd.set_option('display.max_colwidth', None)  \n",
    "print(results_comparison.head(15)) #showing first 15 rows\n",
    "print(\"\"\"\n",
    "\n",
    "\"\"\")\n",
    "matching_percentage = results_comparison['Match'].mean() * 100 #calculating and display the percentage of matching predictions\n",
    "print(f\"Percentage of Matching Predictions: {matching_percentage:.2f}%\")"
   ]
  },
  {
   "cell_type": "code",
   "execution_count": null,
   "id": "b1a2fbef-52dc-4de6-a5d6-3828aeb9fd20",
   "metadata": {},
   "outputs": [],
   "source": [
    "# KNN accuracy: 73%\n",
    "#"
   ]
  }
 ],
 "metadata": {
  "kernelspec": {
   "display_name": "Python 3 (ipykernel)",
   "language": "python",
   "name": "python3"
  },
  "language_info": {
   "codemirror_mode": {
    "name": "ipython",
    "version": 3
   },
   "file_extension": ".py",
   "mimetype": "text/x-python",
   "name": "python",
   "nbconvert_exporter": "python",
   "pygments_lexer": "ipython3",
   "version": "3.12.4"
  }
 },
 "nbformat": 4,
 "nbformat_minor": 5
}
